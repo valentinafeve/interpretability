{
 "cells": [
  {
   "cell_type": "code",
   "execution_count": 1,
   "id": "1f2af157",
   "metadata": {},
   "outputs": [],
   "source": [
    "from PIL import Image\n",
    "import torch\n",
    "\n",
    "# Cargar la imagen\n",
    "imagen = Image.open('examples/lightening.png')\n",
    "\n",
    "# Redimensionar la imagen a 5x5 píxeles\n",
    "imagen_redimensionada = imagen.resize((5, 5))\n",
    "\n",
    "# Mostrar la imagen redimensionada\n",
    "# imagen_redimensionada.show()"
   ]
  },
  {
   "cell_type": "code",
   "execution_count": 5,
   "id": "cc41af48",
   "metadata": {},
   "outputs": [
    {
     "data": {
      "text/plain": [
       "(5, 5)"
      ]
     },
     "execution_count": 5,
     "metadata": {},
     "output_type": "execute_result"
    }
   ],
   "source": [
    "imagen_redimensionada.size"
   ]
  },
  {
   "cell_type": "code",
   "execution_count": 2,
   "id": "a470b9e3",
   "metadata": {},
   "outputs": [],
   "source": [
    "from torchvision import transforms"
   ]
  },
  {
   "cell_type": "code",
   "execution_count": 7,
   "id": "e916114c",
   "metadata": {},
   "outputs": [
    {
     "data": {
      "text/plain": [
       "torch.Size([3, 5, 5])"
      ]
     },
     "execution_count": 7,
     "metadata": {},
     "output_type": "execute_result"
    }
   ],
   "source": [
    "to_tensor = transforms.ToTensor()\n",
    "t = to_tensor(imagen_redimensionada)[:3, :, :]\n",
    "t.shape"
   ]
  },
  {
   "cell_type": "code",
   "execution_count": 8,
   "id": "3d149d91",
   "metadata": {},
   "outputs": [],
   "source": [
    "image = transforms.ToPILImage()(t)\n",
    "image.save('examples/lightening_5x5.png')"
   ]
  },
  {
   "cell_type": "code",
   "execution_count": 9,
   "id": "2626239b",
   "metadata": {},
   "outputs": [],
   "source": [
    "image.show()"
   ]
  },
  {
   "cell_type": "code",
   "execution_count": 7,
   "id": "2a3ae7ac",
   "metadata": {},
   "outputs": [],
   "source": [
    "t = torch.Tensor([[0.0, 0.0, 0.0, 0.5, 1.0], [0.0, 0.0, 0.5, 1.0, 0.5], [0.0, 0.0, 0.0, 0.0, 0.0], [1.0, 1.0, 1.0, 1.0, 1.0], [0.0, 0.0, 0.0, 0.0, 0.0]])"
   ]
  },
  {
   "cell_type": "code",
   "execution_count": 8,
   "id": "531ce29b",
   "metadata": {},
   "outputs": [],
   "source": [
    "image = transforms.ToPILImage()(t)\n",
    "image.save('examples/lightening_5x5_5.png')"
   ]
  },
  {
   "cell_type": "code",
   "execution_count": 9,
   "id": "6bc785f1",
   "metadata": {},
   "outputs": [],
   "source": [
    "t_inverted = torch.Tensor([[1.0, 1.0, 1.0, 1.0, 0.5], [0.5, 0.5, 1.0, 1.0, 0.0], [0.0, 0.0, 0.5, 0.5, 0.0], [0.0, 0.0, 1.0, 0.0, 0.0], [1.0, 1.0, 1.0, 1.0, 1.0]])"
   ]
  },
  {
   "cell_type": "code",
   "execution_count": 10,
   "id": "f597a392",
   "metadata": {},
   "outputs": [],
   "source": [
    "image_inverted = transforms.ToPILImage()(t_inverted)\n",
    "image_inverted.save('examples/lightening_5x5_4.png')"
   ]
  },
  {
   "cell_type": "code",
   "execution_count": null,
   "id": "b77b80f6",
   "metadata": {},
   "outputs": [],
   "source": []
  }
 ],
 "metadata": {
  "kernelspec": {
   "display_name": "ai",
   "language": "python",
   "name": "python3"
  },
  "language_info": {
   "codemirror_mode": {
    "name": "ipython",
    "version": 3
   },
   "file_extension": ".py",
   "mimetype": "text/x-python",
   "name": "python",
   "nbconvert_exporter": "python",
   "pygments_lexer": "ipython3",
   "version": "3.11.9"
  }
 },
 "nbformat": 4,
 "nbformat_minor": 5
}
