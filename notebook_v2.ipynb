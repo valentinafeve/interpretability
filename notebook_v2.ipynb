{
  "cells": [
    {
      "cell_type": "markdown",
      "metadata": {
        "id": "view-in-github",
        "colab_type": "text"
      },
      "source": [
        "<a href=\"https://colab.research.google.com/github/valentinafeve/interpretability/blob/main/notebook_v2.ipynb\" target=\"_parent\"><img src=\"https://colab.research.google.com/assets/colab-badge.svg\" alt=\"Open In Colab\"/></a>"
      ]
    },
    {
      "cell_type": "code",
      "execution_count": 3,
      "id": "c17b8f06",
      "metadata": {
        "id": "c17b8f06"
      },
      "outputs": [],
      "source": [
        "import matplotlib.pyplot as plt\n",
        "import torch\n",
        "import torch.nn as nn\n",
        "import torch.nn.functional as F\n",
        "import torchvision.datasets as datasets\n",
        "from PIL import Image\n",
        "from torchvision.transforms import (Compose, Normalize, Resize, ToPILImage,\n",
        "                                    ToTensor)\n",
        "from tqdm.notebook import tqdm, trange\n",
        "\n",
        "import logging"
      ]
    },
    {
      "cell_type": "code",
      "source": [
        "def plot_tensor(tensor, title=None, save=False):\n",
        "    tensor = tensor.detach().cpu().numpy()\n",
        "    vmin, vmax = tensor.min(), tensor.max()\n",
        "    cmap = 'magma'     # Puedes cambiar a 'magma'\n",
        "\n",
        "    plt.figure(figsize=(4, 4))\n",
        "    im = plt.imshow(tensor, cmap=cmap, vmin=vmin, vmax=vmax)\n",
        "    plt.axis('off')\n",
        "\n",
        "    if title:\n",
        "        plt.title(title)\n",
        "\n",
        "    # Crear colorbar\n",
        "    cbar = plt.colorbar(im, fraction=0.046, pad=0.04)\n",
        "    cbar.set_ticks([vmin, vmax])\n",
        "\n",
        "    if save and title:\n",
        "        plt.savefig(title + '.png', bbox_inches='tight')\n",
        "\n",
        "    plt.show()\n",
        "    plt.close()\n",
        "\n",
        "def plot_tensors(tensor, title=None):\n",
        "    \"\"\"\"\n",
        "    Plot a batch of images in a grid. Creates a grid of filters from a tensor.\n",
        "    The input tensor should be of shape (batch_size, filters, height, width).\n",
        "    \"\"\"\n",
        "    batch, filters, height, width = tensor.shape\n",
        "    fig, axs = plt.subplots(filters // width, width, figsize=(width + 2.5 , (filters // width) ))\n",
        "\n",
        "    vmin = tensor.min()\n",
        "    vmax = tensor.max()\n",
        "    cmap = 'magma'\n",
        "\n",
        "\n",
        "    for i in range(filters):\n",
        "        ax = axs[i // width, i % width]\n",
        "        ax.imshow(tensor[0, i].cpu().numpy(), cmap)\n",
        "        ax.axis('off')\n",
        "\n",
        "    # Agrega colorbar\n",
        "    cbar_ax = fig.add_axes([0.98, 0.15, 0.02, 0.7])  # [left, bottom, width, height]\n",
        "    norm = Normalize(vmin=vmin, vmax=vmax)\n",
        "    sm = ScalarMappable(cmap=cmap, norm=norm)\n",
        "    sm.set_array([])\n",
        "    cbar = fig.colorbar(sm, cax=cbar_ax)\n",
        "    cbar.set_ticks([vmin, vmax])\n",
        "\n",
        "\n",
        "    if title:\n",
        "        fig.suptitle(title)\n",
        "\n",
        "    plt.tight_layout()\n",
        "    plt.show()\n",
        "    plt.close()"
      ],
      "metadata": {
        "id": "rjrWtKpRZuqs"
      },
      "id": "rjrWtKpRZuqs",
      "execution_count": 4,
      "outputs": []
    },
    {
      "cell_type": "markdown",
      "id": "7bfc2b2b",
      "metadata": {
        "id": "7bfc2b2b"
      },
      "source": [
        "### Instanciación de una capa convolucional con templates"
      ]
    },
    {
      "cell_type": "code",
      "execution_count": 5,
      "id": "e107fd62",
      "metadata": {
        "id": "e107fd62"
      },
      "outputs": [],
      "source": [
        "class InterpretableConvLayer(nn.Module):\n",
        "    def __init__(self, in_channels, out_channels, kernel_size, feature_map_size, tau=0.5, beta=4.0, alpha=0.95):\n",
        "        super().__init__()\n",
        "        self.conv = nn.Conv2d(in_channels, out_channels, kernel_size, padding=1, bias=True)\n",
        "        self.tau = tau\n",
        "        self.beta = beta\n",
        "        self.alpha = alpha\n",
        "        self.n = feature_map_size\n",
        "        self.templates = self._generate_templates()\n",
        "\n",
        "    def forward(self, x):\n",
        "        x = F.relu(self.conv(x))\n",
        "        if not self.training:\n",
        "            logging.info(\"Training mode: applying masks to feature maps.\")\n",
        "            masks = self._assign_masks(x)\n",
        "            masked_x = x * masks\n",
        "            return masked_x * (masked_x > 0)\n",
        "        else:\n",
        "            logging.info(\"Inference mode: applying templates to feature maps.\")\n",
        "            return x\n",
        "\n",
        "    def _generate_templates(self):\n",
        "        templates = []\n",
        "        for i in range(self.n):\n",
        "            for j in range(self.n):\n",
        "                t = torch.full((self.n, self.n), -self.tau)\n",
        "                for x in range(self.n):\n",
        "                    for y in range(self.n):\n",
        "                        dist = abs(x - i) + abs(y - j)\n",
        "                        t[x, y] = self.tau * max(1 - self.beta * dist / self.n, 0)\n",
        "                templates.append(t)\n",
        "        return torch.stack(templates)\n",
        "\n",
        "    def _assign_masks(self, x):\n",
        "\n",
        "        B, C, H, W = x.shape\n",
        "\n",
        "        x_flat = x.view(B * C, H, W)\n",
        "        masks = []\n",
        "\n",
        "        for fmap in x_flat:\n",
        "            mu_hat = torch.argmax(fmap.view(-1))\n",
        "            i, j = mu_hat // self.n, mu_hat % self.n\n",
        "            idx = i * self.n + j\n",
        "            mask = self.templates[idx]\n",
        "            masks.append(mask)\n",
        "\n",
        "        masks = torch.stack(masks).view(B, C, H, W).to(x.device)\n",
        "        return masks"
      ]
    },
    {
      "cell_type": "code",
      "execution_count": 6,
      "id": "53375d0c",
      "metadata": {
        "id": "53375d0c",
        "outputId": "f8029955-3f39-4091-dfcc-4c5f63bfa754",
        "colab": {
          "base_uri": "https://localhost:8080/"
        }
      },
      "outputs": [
        {
          "output_type": "execute_result",
          "data": {
            "text/plain": [
              "tensor([[[4.0000, 3.7500, 3.5000,  ..., 0.0000, 0.0000, 0.0000],\n",
              "         [3.7500, 3.5000, 3.2500,  ..., 0.0000, 0.0000, 0.0000],\n",
              "         [3.5000, 3.2500, 3.0000,  ..., 0.0000, 0.0000, 0.0000],\n",
              "         ...,\n",
              "         [0.0000, 0.0000, 0.0000,  ..., 0.0000, 0.0000, 0.0000],\n",
              "         [0.0000, 0.0000, 0.0000,  ..., 0.0000, 0.0000, 0.0000],\n",
              "         [0.0000, 0.0000, 0.0000,  ..., 0.0000, 0.0000, 0.0000]],\n",
              "\n",
              "        [[3.7500, 4.0000, 3.7500,  ..., 0.0000, 0.0000, 0.0000],\n",
              "         [3.5000, 3.7500, 3.5000,  ..., 0.0000, 0.0000, 0.0000],\n",
              "         [3.2500, 3.5000, 3.2500,  ..., 0.0000, 0.0000, 0.0000],\n",
              "         ...,\n",
              "         [0.0000, 0.0000, 0.0000,  ..., 0.0000, 0.0000, 0.0000],\n",
              "         [0.0000, 0.0000, 0.0000,  ..., 0.0000, 0.0000, 0.0000],\n",
              "         [0.0000, 0.0000, 0.0000,  ..., 0.0000, 0.0000, 0.0000]],\n",
              "\n",
              "        [[3.5000, 3.7500, 4.0000,  ..., 0.0000, 0.0000, 0.0000],\n",
              "         [3.2500, 3.5000, 3.7500,  ..., 0.0000, 0.0000, 0.0000],\n",
              "         [3.0000, 3.2500, 3.5000,  ..., 0.0000, 0.0000, 0.0000],\n",
              "         ...,\n",
              "         [0.0000, 0.0000, 0.0000,  ..., 0.0000, 0.0000, 0.0000],\n",
              "         [0.0000, 0.0000, 0.0000,  ..., 0.0000, 0.0000, 0.0000],\n",
              "         [0.0000, 0.0000, 0.0000,  ..., 0.0000, 0.0000, 0.0000]],\n",
              "\n",
              "        ...,\n",
              "\n",
              "        [[0.0000, 0.0000, 0.0000,  ..., 0.0000, 0.0000, 0.0000],\n",
              "         [0.0000, 0.0000, 0.0000,  ..., 0.0000, 0.0000, 0.0000],\n",
              "         [0.0000, 0.0000, 0.0000,  ..., 0.0000, 0.0000, 0.0000],\n",
              "         ...,\n",
              "         [0.0000, 0.0000, 0.0000,  ..., 3.5000, 3.2500, 3.0000],\n",
              "         [0.0000, 0.0000, 0.0000,  ..., 3.7500, 3.5000, 3.2500],\n",
              "         [0.0000, 0.0000, 0.0000,  ..., 4.0000, 3.7500, 3.5000]],\n",
              "\n",
              "        [[0.0000, 0.0000, 0.0000,  ..., 0.0000, 0.0000, 0.0000],\n",
              "         [0.0000, 0.0000, 0.0000,  ..., 0.0000, 0.0000, 0.0000],\n",
              "         [0.0000, 0.0000, 0.0000,  ..., 0.0000, 0.0000, 0.0000],\n",
              "         ...,\n",
              "         [0.0000, 0.0000, 0.0000,  ..., 3.2500, 3.5000, 3.2500],\n",
              "         [0.0000, 0.0000, 0.0000,  ..., 3.5000, 3.7500, 3.5000],\n",
              "         [0.0000, 0.0000, 0.0000,  ..., 3.7500, 4.0000, 3.7500]],\n",
              "\n",
              "        [[0.0000, 0.0000, 0.0000,  ..., 0.0000, 0.0000, 0.0000],\n",
              "         [0.0000, 0.0000, 0.0000,  ..., 0.0000, 0.0000, 0.0000],\n",
              "         [0.0000, 0.0000, 0.0000,  ..., 0.0000, 0.0000, 0.0000],\n",
              "         ...,\n",
              "         [0.0000, 0.0000, 0.0000,  ..., 3.0000, 3.2500, 3.5000],\n",
              "         [0.0000, 0.0000, 0.0000,  ..., 3.2500, 3.5000, 3.7500],\n",
              "         [0.0000, 0.0000, 0.0000,  ..., 3.5000, 3.7500, 4.0000]]])"
            ]
          },
          "metadata": {},
          "execution_count": 6
        }
      ],
      "source": [
        "filters = 3\n",
        "interpretable_cnn = InterpretableConvLayer(3, filters, 3, 32, tau=4.00, beta=2.00, alpha=1.95)\n",
        "interpretable_cnn.templates"
      ]
    },
    {
      "cell_type": "markdown",
      "id": "d25f087b",
      "metadata": {
        "id": "d25f087b"
      },
      "source": [
        "### Gráfico de los templates en la capa convolucional interpretable"
      ]
    },
    {
      "cell_type": "code",
      "execution_count": null,
      "id": "d0fb597b",
      "metadata": {
        "id": "d0fb597b"
      },
      "outputs": [],
      "source": [
        "plot_tensors(interpretable_cnn.templates.unsqueeze(0), title='Templates')"
      ]
    },
    {
      "cell_type": "code",
      "execution_count": null,
      "id": "f07180f9",
      "metadata": {
        "id": "f07180f9"
      },
      "outputs": [],
      "source": [
        "#### Ejemplo de uso con una imagen de 32 x 32"
      ]
    },
    {
      "cell_type": "code",
      "execution_count": null,
      "id": "38ce5c05",
      "metadata": {
        "id": "38ce5c05"
      },
      "outputs": [],
      "source": [
        "image = Image.open(\"examples/bird_32_32.png\")\n",
        "image_as_tensor = ToTensor()(image).unsqueeze(0)[:, :3, :, :]\n",
        "plt.imshow(ToPILImage()(image_as_tensor[0]))"
      ]
    },
    {
      "cell_type": "code",
      "execution_count": null,
      "id": "abbe7c9a",
      "metadata": {
        "id": "abbe7c9a"
      },
      "outputs": [],
      "source": [
        "interpretable_cnn = interpretable_cnn.train()\n",
        "output = interpretable_cnn(image_as_tensor)\n",
        "output.shape"
      ]
    },
    {
      "cell_type": "code",
      "execution_count": null,
      "id": "16db6b79",
      "metadata": {
        "id": "16db6b79"
      },
      "outputs": [],
      "source": [
        "for i in range(filters):\n",
        "    image = output[0, i, :, :]\n",
        "    plot_tensor(image, title=f\"Filter {i+1} Output\")"
      ]
    },
    {
      "cell_type": "code",
      "execution_count": null,
      "id": "19a94ac8",
      "metadata": {
        "id": "19a94ac8",
        "outputId": "bbcfaeb1-abd1-4277-9e38-6f88076b892f"
      },
      "outputs": [
        {
          "data": {
            "text/plain": [
              "torch.Size([1, 3, 32, 32])"
            ]
          },
          "execution_count": 194,
          "metadata": {},
          "output_type": "execute_result"
        }
      ],
      "source": [
        "interpretable_cnn = interpretable_cnn.eval()\n",
        "output = interpretable_cnn(image_as_tensor)\n",
        "output.shape"
      ]
    },
    {
      "cell_type": "code",
      "execution_count": null,
      "id": "bde0d861",
      "metadata": {
        "id": "bde0d861",
        "outputId": "498e2b69-2f97-46f5-84a9-e54e70d5d853"
      },
      "outputs": [
        {
          "data": {
            "image/png": "[encoded data removed]",
            "text/plain": [
              "<Figure size 400x400 with 2 Axes>"
            ]
          },
          "metadata": {},
          "output_type": "display_data"
        },
        {
          "data": {
            "image/png": "[encoded data removed]",
            "text/plain": [
              "<Figure size 400x400 with 2 Axes>"
            ]
          },
          "metadata": {},
          "output_type": "display_data"
        },
        {
          "data": {
            "image/png": "[encoded data removed]",
            "text/plain": [
              "<Figure size 400x400 with 2 Axes>"
            ]
          },
          "metadata": {},
          "output_type": "display_data"
        }
      ],
      "source": [
        "for i in range(filters):\n",
        "    image = output[0, i, :, :]\n",
        "    plot_tensor(image, title=f\"Filter {i+1} Output\")"
      ]
    },
    {
      "cell_type": "code",
      "execution_count": null,
      "id": "69bb0c73",
      "metadata": {
        "id": "69bb0c73",
        "outputId": "430986bf-acbb-4823-d2e2-660f9aa7d889"
      },
      "outputs": [
        {
          "data": {
            "text/plain": [
              "tensor([[[4.0000, 3.7500, 3.5000,  ..., 0.0000, 0.0000, 0.0000],\n",
              "         [3.7500, 3.5000, 3.2500,  ..., 0.0000, 0.0000, 0.0000],\n",
              "         [3.5000, 3.2500, 3.0000,  ..., 0.0000, 0.0000, 0.0000],\n",
              "         ...,\n",
              "         [0.0000, 0.0000, 0.0000,  ..., 0.0000, 0.0000, 0.0000],\n",
              "         [0.0000, 0.0000, 0.0000,  ..., 0.0000, 0.0000, 0.0000],\n",
              "         [0.0000, 0.0000, 0.0000,  ..., 0.0000, 0.0000, 0.0000]],\n",
              "\n",
              "        [[3.7500, 4.0000, 3.7500,  ..., 0.0000, 0.0000, 0.0000],\n",
              "         [3.5000, 3.7500, 3.5000,  ..., 0.0000, 0.0000, 0.0000],\n",
              "         [3.2500, 3.5000, 3.2500,  ..., 0.0000, 0.0000, 0.0000],\n",
              "         ...,\n",
              "         [0.0000, 0.0000, 0.0000,  ..., 0.0000, 0.0000, 0.0000],\n",
              "         [0.0000, 0.0000, 0.0000,  ..., 0.0000, 0.0000, 0.0000],\n",
              "         [0.0000, 0.0000, 0.0000,  ..., 0.0000, 0.0000, 0.0000]],\n",
              "\n",
              "        [[3.5000, 3.7500, 4.0000,  ..., 0.0000, 0.0000, 0.0000],\n",
              "         [3.2500, 3.5000, 3.7500,  ..., 0.0000, 0.0000, 0.0000],\n",
              "         [3.0000, 3.2500, 3.5000,  ..., 0.0000, 0.0000, 0.0000],\n",
              "         ...,\n",
              "         [0.0000, 0.0000, 0.0000,  ..., 0.0000, 0.0000, 0.0000],\n",
              "         [0.0000, 0.0000, 0.0000,  ..., 0.0000, 0.0000, 0.0000],\n",
              "         [0.0000, 0.0000, 0.0000,  ..., 0.0000, 0.0000, 0.0000]],\n",
              "\n",
              "        ...,\n",
              "\n",
              "        [[0.0000, 0.0000, 0.0000,  ..., 0.0000, 0.0000, 0.0000],\n",
              "         [0.0000, 0.0000, 0.0000,  ..., 0.0000, 0.0000, 0.0000],\n",
              "         [0.0000, 0.0000, 0.0000,  ..., 0.0000, 0.0000, 0.0000],\n",
              "         ...,\n",
              "         [0.0000, 0.0000, 0.0000,  ..., 3.5000, 3.2500, 3.0000],\n",
              "         [0.0000, 0.0000, 0.0000,  ..., 3.7500, 3.5000, 3.2500],\n",
              "         [0.0000, 0.0000, 0.0000,  ..., 4.0000, 3.7500, 3.5000]],\n",
              "\n",
              "        [[0.0000, 0.0000, 0.0000,  ..., 0.0000, 0.0000, 0.0000],\n",
              "         [0.0000, 0.0000, 0.0000,  ..., 0.0000, 0.0000, 0.0000],\n",
              "         [0.0000, 0.0000, 0.0000,  ..., 0.0000, 0.0000, 0.0000],\n",
              "         ...,\n",
              "         [0.0000, 0.0000, 0.0000,  ..., 3.2500, 3.5000, 3.2500],\n",
              "         [0.0000, 0.0000, 0.0000,  ..., 3.5000, 3.7500, 3.5000],\n",
              "         [0.0000, 0.0000, 0.0000,  ..., 3.7500, 4.0000, 3.7500]],\n",
              "\n",
              "        [[0.0000, 0.0000, 0.0000,  ..., 0.0000, 0.0000, 0.0000],\n",
              "         [0.0000, 0.0000, 0.0000,  ..., 0.0000, 0.0000, 0.0000],\n",
              "         [0.0000, 0.0000, 0.0000,  ..., 0.0000, 0.0000, 0.0000],\n",
              "         ...,\n",
              "         [0.0000, 0.0000, 0.0000,  ..., 3.0000, 3.2500, 3.5000],\n",
              "         [0.0000, 0.0000, 0.0000,  ..., 3.2500, 3.5000, 3.7500],\n",
              "         [0.0000, 0.0000, 0.0000,  ..., 3.5000, 3.7500, 4.0000]]])"
            ]
          },
          "execution_count": 196,
          "metadata": {},
          "output_type": "execute_result"
        }
      ],
      "source": [
        "interpretable_cnn.templates"
      ]
    },
    {
      "cell_type": "code",
      "execution_count": null,
      "id": "811ce075",
      "metadata": {
        "id": "811ce075",
        "outputId": "150b2f54-59dd-40cb-d045-594ebbbba972"
      },
      "outputs": [
        {
          "data": {
            "image/png": "[encoded data removed]",
            "text/plain": [
              "<Figure size 400x400 with 2 Axes>"
            ]
          },
          "metadata": {},
          "output_type": "display_data"
        }
      ],
      "source": [
        "plot_tensor(interpretable_cnn.templates[424], title=\"Template 42\")"
      ]
    },
    {
      "cell_type": "code",
      "execution_count": null,
      "id": "177d5b6f",
      "metadata": {
        "id": "177d5b6f",
        "outputId": "66d71bac-5e8d-4f21-82ce-0d1e0eb2e775"
      },
      "outputs": [
        {
          "data": {
            "text/plain": [
              "torch.Size([1, 3, 32, 32])"
            ]
          },
          "execution_count": 198,
          "metadata": {},
          "output_type": "execute_result"
        }
      ],
      "source": [
        "output.shape"
      ]
    },
    {
      "cell_type": "code",
      "execution_count": null,
      "id": "81820a5f",
      "metadata": {
        "id": "81820a5f"
      },
      "outputs": [],
      "source": [
        "def MI(X, templates):\n",
        "    filters = X.shape[1]\n",
        "    n_templates = templates.shape[1]\n",
        "    n = templates.shape[-1]\n",
        "    X_ = X.unsqueeze(1)\n",
        "    templates_ = templates.unsqueeze(2)\n",
        "    p_x = (X_.sum(dim=(3, 4)) / (n*n*filters)).unsqueeze(-1).unsqueeze(-1)\n",
        "    # print(p_x)\n",
        "    p_T = (templates_.sum(dim=(3, 4))  / (n*n*n_templates)).unsqueeze(-1).unsqueeze(-1)\n",
        "    # print(p_T)\n",
        "    p_x = (p_x > 0).float()\n",
        "    p_T = (p_T > 0).float()\n",
        "    # print(X_.matmul(templates_))\n",
        "    # print(X_.matmul(templates_).shape)\n",
        "    # print((p_x * p_T))\n",
        "    p_x_T = (X_.matmul(templates_) / (p_x * p_T)).nan_to_num(nan=0.0, posinf=0.0, neginf=0.0)\n",
        "\n",
        "    p_x_expanded = p_x.unsqueeze(-1).unsqueeze(-1)\n",
        "    MI = - (p_x_T) * torch.log2((p_x_T + 1e-10) ) / ((p_x * p_T) + 1e-10)\n",
        "    return MI.sum(dim=(1, 2, 3, 4)) / (n*n*n_templates)"
      ]
    },
    {
      "cell_type": "code",
      "execution_count": null,
      "id": "124c0e20",
      "metadata": {
        "id": "124c0e20",
        "outputId": "59abba5e-8a2c-4652-836f-47b57fbf24f1"
      },
      "outputs": [
        {
          "data": {
            "text/plain": [
              "tensor([-6.6224, -6.6224, -6.6224, -6.6224, -6.6224, -6.6224, -6.6224, -6.6224,\n",
              "        -6.6224], grad_fn=<DivBackward0>)"
            ]
          },
          "execution_count": 230,
          "metadata": {},
          "output_type": "execute_result"
        }
      ],
      "source": [
        "interpretable_cnn = interpretable_cnn.train()\n",
        "output = interpretable_cnn(image_as_tensor)\n",
        "a = output.repeat(9, 1, 1, 1)\n",
        "b = interpretable_cnn.templates.unsqueeze(0).repeat(9, 1, 1, 1)\n",
        "x = MI(a, b)\n",
        "x"
      ]
    },
    {
      "cell_type": "code",
      "execution_count": null,
      "id": "9c244c89",
      "metadata": {
        "id": "9c244c89",
        "outputId": "aea9872c-ccd7-45ca-9234-ba90f13b3b2a"
      },
      "outputs": [
        {
          "name": "stdout",
          "output_type": "stream",
          "text": [
            "torch.Size([9, 3, 32, 32])\n",
            "torch.Size([9, 1024, 32, 32])\n"
          ]
        },
        {
          "data": {
            "text/plain": [
              "tensor([-9.7181, -9.7181, -9.7181, -9.7181, -9.7181, -9.7181, -9.7181, -9.7181,\n",
              "        -9.7181], grad_fn=<DivBackward0>)"
            ]
          },
          "execution_count": 231,
          "metadata": {},
          "output_type": "execute_result"
        }
      ],
      "source": [
        "interpretable_cnn = interpretable_cnn.eval()\n",
        "output = interpretable_cnn(image_as_tensor)\n",
        "a = output.repeat(9, 1, 1, 1)\n",
        "b = interpretable_cnn.templates.unsqueeze(0).repeat(9, 1, 1, 1)\n",
        "print(a.shape)\n",
        "print(b.shape)\n",
        "x = MI(a, b)\n",
        "x"
      ]
    },
    {
      "cell_type": "code",
      "execution_count": null,
      "id": "72b41a09",
      "metadata": {
        "id": "72b41a09"
      },
      "outputs": [],
      "source": [
        "class Model(nn.Module):\n",
        "    def __init__(self, feature_map_size):\n",
        "        super().__init__()\n",
        "        self.cnn = nn.Conv2d(1, 16, kernel_size=3, padding=1)\n",
        "        self.pool = nn.MaxPool2d(kernel_size=2, stride=2)\n",
        "        self.icnn = InterpretableConvLayer(in_channels=16, out_channels=6, kernel_size=3, feature_map_size=16)\n",
        "        self.classifier = nn.Linear(384 , 10)\n",
        "\n",
        "    def forward(self, x):\n",
        "        x = self.cnn(x)\n",
        "        x = self.pool(x)\n",
        "        x = nn.ReLU()(x)\n",
        "        x = self.icnn(x)\n",
        "        x = nn.ReLU()(x)\n",
        "        icnn_output = x\n",
        "        x = self.pool(x)\n",
        "        x = x.view(x.size(0), -1)\n",
        "        x = self.classifier(x)\n",
        "        x = torch.softmax(x, dim=1)\n",
        "        return x, icnn_output\n"
      ]
    },
    {
      "cell_type": "code",
      "execution_count": null,
      "id": "68610ef0",
      "metadata": {
        "id": "68610ef0",
        "outputId": "7433df4c-26a6-4bb7-8247-45baed9a5a86"
      },
      "outputs": [
        {
          "data": {
            "text/plain": [
              "tensor([0.3006, 0.3322, 0.3672])"
            ]
          },
          "execution_count": 233,
          "metadata": {},
          "output_type": "execute_result"
        }
      ],
      "source": [
        "torch.softmax(torch.tensor([0.1, 0.2, 0.3]), dim=0)"
      ]
    },
    {
      "cell_type": "code",
      "execution_count": null,
      "id": "24d75229",
      "metadata": {
        "id": "24d75229"
      },
      "outputs": [],
      "source": [
        "transformations = Compose([\n",
        "    Resize((32, 32)),\n",
        "    ToTensor()\n",
        "])"
      ]
    },
    {
      "cell_type": "code",
      "execution_count": null,
      "id": "0a36d67d",
      "metadata": {
        "id": "0a36d67d"
      },
      "outputs": [],
      "source": [
        "mnist_trainset = datasets.MNIST(root='./data', train=True, download=True, transform=transformations)\n",
        "mnist_testset = datasets.MNIST(root='./data', train=False, download=True, transform=transformations)"
      ]
    },
    {
      "cell_type": "code",
      "execution_count": null,
      "id": "744f7fe9",
      "metadata": {
        "id": "744f7fe9",
        "outputId": "d437859c-337a-4ec1-d15d-8a6dc8d9578a"
      },
      "outputs": [
        {
          "data": {
            "text/plain": [
              "5"
            ]
          },
          "execution_count": 236,
          "metadata": {},
          "output_type": "execute_result"
        }
      ],
      "source": [
        "mnist_trainset[0][1]"
      ]
    },
    {
      "cell_type": "code",
      "execution_count": null,
      "id": "e9b02201",
      "metadata": {
        "id": "e9b02201"
      },
      "outputs": [],
      "source": [
        "def one_hot_encode(y, n_classes=10):\n",
        "    y_one_hot = torch.zeros((n_classes))\n",
        "    y_one_hot[y] = 1\n",
        "    return y_one_hot"
      ]
    },
    {
      "cell_type": "code",
      "execution_count": null,
      "id": "3c4cccb7",
      "metadata": {
        "id": "3c4cccb7",
        "outputId": "473e9406-975d-4c27-90b4-ebcffd0a71d2"
      },
      "outputs": [
        {
          "data": {
            "text/plain": [
              "tensor([0., 0., 0., 0., 0., 1., 0., 0., 0., 0.])"
            ]
          },
          "execution_count": 238,
          "metadata": {},
          "output_type": "execute_result"
        }
      ],
      "source": [
        "one_hot_encode(mnist_trainset[0][1])"
      ]
    },
    {
      "cell_type": "code",
      "execution_count": null,
      "id": "26f12829",
      "metadata": {
        "id": "26f12829"
      },
      "outputs": [],
      "source": [
        "# Transform target to one-hot encoding\n",
        "mnist_trainset.target_transform = lambda x: one_hot_encode(x, n_classes=10)\n",
        "mnist_testset.target_transform = lambda x: one_hot_encode(x, n_classes=10)\n"
      ]
    },
    {
      "cell_type": "code",
      "execution_count": null,
      "id": "3fa411b9",
      "metadata": {
        "id": "3fa411b9"
      },
      "outputs": [],
      "source": [
        "BATCH_SIZE = 128\n",
        "train_dataloader = torch.utils.data.DataLoader(mnist_trainset, batch_size=BATCH_SIZE, shuffle=True)\n",
        "test_dataloader = torch.utils.data.DataLoader(mnist_testset, batch_size=BATCH_SIZE, shuffle=False)"
      ]
    },
    {
      "cell_type": "code",
      "execution_count": null,
      "id": "8a1488d6",
      "metadata": {
        "id": "8a1488d6"
      },
      "outputs": [],
      "source": [
        "model = Model(feature_map_size=32)\n",
        "optimizer = torch.optim.Adam(model.parameters(), lr=1e-3)\n",
        "criterion = nn.CrossEntropyLoss()"
      ]
    },
    {
      "cell_type": "code",
      "execution_count": null,
      "id": "b04f3345",
      "metadata": {
        "id": "b04f3345",
        "outputId": "c7cb8b4a-4e31-4160-debb-92ebfab52c47"
      },
      "outputs": [
        {
          "data": {
            "image/png": "[encoded data removed]",
            "text/plain": [
              "<Figure size 400x400 with 2 Axes>"
            ]
          },
          "metadata": {},
          "output_type": "display_data"
        }
      ],
      "source": [
        "plot_tensor(mnist_trainset[0][0].permute(1, 2, 0), title=\"MNIST Image\")"
      ]
    },
    {
      "cell_type": "code",
      "execution_count": null,
      "id": "36a833f1",
      "metadata": {
        "id": "36a833f1",
        "outputId": "996d3afb-b699-4989-f26d-39b45baaf5be"
      },
      "outputs": [
        {
          "data": {
            "text/plain": [
              "torch.Size([1, 6, 16, 16])"
            ]
          },
          "execution_count": 250,
          "metadata": {},
          "output_type": "execute_result"
        }
      ],
      "source": [
        "x, icnn_output = model(mnist_trainset[0][0].unsqueeze(0))\n",
        "icnn_output.shape"
      ]
    },
    {
      "cell_type": "code",
      "execution_count": null,
      "id": "ff6de02d",
      "metadata": {
        "id": "ff6de02d",
        "outputId": "d9637d74-6bf2-443b-8001-729e221410d6"
      },
      "outputs": [
        {
          "data": {
            "text/plain": [
              "torch.Size([1, 256, 16, 16])"
            ]
          },
          "execution_count": 251,
          "metadata": {},
          "output_type": "execute_result"
        }
      ],
      "source": [
        "model.icnn.templates.unsqueeze(0).shape"
      ]
    },
    {
      "cell_type": "code",
      "execution_count": null,
      "id": "a939a2af",
      "metadata": {
        "id": "a939a2af",
        "outputId": "d47aff20-f8a8-4e03-a650-70b5a00948fe"
      },
      "outputs": [
        {
          "data": {
            "text/plain": [
              "tensor(0.3312, grad_fn=<MaxBackward1>)"
            ]
          },
          "execution_count": 252,
          "metadata": {},
          "output_type": "execute_result"
        }
      ],
      "source": [
        "icnn_output.max()"
      ]
    },
    {
      "cell_type": "code",
      "execution_count": null,
      "id": "2d0ee1cb",
      "metadata": {
        "id": "2d0ee1cb",
        "outputId": "e3dca579-b460-4870-e468-1f346f2db714",
        "colab": {
          "referenced_widgets": [
            "3605c082817645aea85388b38c1c4607",
            "96caede0d16e4030a4f927d72a34acc4"
          ]
        }
      },
      "outputs": [
        {
          "data": {
            "application/vnd.jupyter.widget-view+json": {
              "model_id": "3605c082817645aea85388b38c1c4607",
              "version_major": 2,
              "version_minor": 0
            },
            "text/plain": [
              "  0%|          | 0/5 [00:00<?, ?it/s]"
            ]
          },
          "metadata": {},
          "output_type": "display_data"
        },
        {
          "data": {
            "application/vnd.jupyter.widget-view+json": {
              "model_id": "96caede0d16e4030a4f927d72a34acc4",
              "version_major": 2,
              "version_minor": 0
            },
            "text/plain": [
              "Training:   0%|          | 0/938 [00:00<?, ?it/s]"
            ]
          },
          "metadata": {},
          "output_type": "display_data"
        },
        {
          "name": "stdout",
          "output_type": "stream",
          "text": [
            "Mutual Information: 0.0183\n",
            "Class Loss: 2.3018\n",
            "Mutual Information: 0.0203\n",
            "Class Loss: 2.3011\n",
            "Mutual Information: 0.0227\n",
            "Class Loss: 2.2982\n",
            "Mutual Information: 0.0250\n",
            "Class Loss: 2.3009\n",
            "Mutual Information: 0.0266\n",
            "Class Loss: 2.2970\n",
            "Mutual Information: 0.0283\n",
            "Class Loss: 2.3008\n",
            "Mutual Information: 0.0296\n",
            "Class Loss: 2.2952\n",
            "Mutual Information: 0.0308\n",
            "Class Loss: 2.2988\n",
            "Mutual Information: 0.0318\n",
            "Class Loss: 2.3024\n",
            "Mutual Information: 0.0324\n",
            "Class Loss: 2.2870\n",
            "Mutual Information: 0.0333\n",
            "Class Loss: 2.2847\n",
            "Mutual Information: 0.0342\n",
            "Class Loss: 2.3016\n",
            "Mutual Information: 0.0353\n",
            "Class Loss: 2.2827\n",
            "Mutual Information: 0.0365\n",
            "Class Loss: 2.2907\n",
            "Mutual Information: 0.0374\n",
            "Class Loss: 2.2732\n",
            "Mutual Information: 0.0383\n",
            "Class Loss: 2.2626\n",
            "Mutual Information: 0.0392\n",
            "Class Loss: 2.2805\n",
            "Mutual Information: 0.0397\n",
            "Class Loss: 2.2887\n",
            "Mutual Information: 0.0399\n",
            "Class Loss: 2.2856\n",
            "Mutual Information: 0.0400\n",
            "Class Loss: 2.2998\n",
            "Mutual Information: 0.0398\n",
            "Class Loss: 2.2619\n",
            "Mutual Information: 0.0396\n",
            "Class Loss: 2.3074\n",
            "Mutual Information: 0.0385\n",
            "Class Loss: 2.2722\n",
            "Mutual Information: 0.0380\n",
            "Class Loss: 2.2465\n",
            "Mutual Information: 0.0375\n",
            "Class Loss: 2.2675\n",
            "Mutual Information: 0.0368\n",
            "Class Loss: 2.2893\n"
          ]
        },
        {
          "ename": "KeyboardInterrupt",
          "evalue": "",
          "output_type": "error",
          "traceback": [
            "\u001b[0;31m---------------------------------------------------------------------------\u001b[0m",
            "\u001b[0;31mKeyboardInterrupt\u001b[0m                         Traceback (most recent call last)",
            "Cell \u001b[0;32mIn[246], line 21\u001b[0m\n\u001b[1;32m     18\u001b[0m is_pos \u001b[38;5;241m=\u001b[39m labels\u001b[38;5;241m.\u001b[39mbool()\n\u001b[1;32m     20\u001b[0m templates \u001b[38;5;241m=\u001b[39m model\u001b[38;5;241m.\u001b[39micnn\u001b[38;5;241m.\u001b[39mtemplates\u001b[38;5;241m.\u001b[39munsqueeze(\u001b[38;5;241m0\u001b[39m)\u001b[38;5;241m.\u001b[39mrepeat(BATCH_SIZE, \u001b[38;5;241m1\u001b[39m, \u001b[38;5;241m1\u001b[39m, \u001b[38;5;241m1\u001b[39m)\n\u001b[0;32m---> 21\u001b[0m interp_loss \u001b[38;5;241m=\u001b[39m \u001b[43mMI\u001b[49m\u001b[43m(\u001b[49m\u001b[43micnn_output\u001b[49m\u001b[43m,\u001b[49m\u001b[43m \u001b[49m\u001b[43mtemplates\u001b[49m\u001b[43m)\u001b[49m\u001b[38;5;241m.\u001b[39msum() \u001b[38;5;241m*\u001b[39m \u001b[38;5;241m1e-3\u001b[39m\n\u001b[1;32m     22\u001b[0m \u001b[38;5;28mprint\u001b[39m(\u001b[38;5;124mf\u001b[39m\u001b[38;5;124m\"\u001b[39m\u001b[38;5;124mMutual Information: \u001b[39m\u001b[38;5;132;01m{\u001b[39;00minterp_loss\u001b[38;5;241m.\u001b[39mitem()\u001b[38;5;132;01m:\u001b[39;00m\u001b[38;5;124m.4f\u001b[39m\u001b[38;5;132;01m}\u001b[39;00m\u001b[38;5;124m\"\u001b[39m)\n\u001b[1;32m     23\u001b[0m \u001b[38;5;28mprint\u001b[39m(\u001b[38;5;124mf\u001b[39m\u001b[38;5;124m\"\u001b[39m\u001b[38;5;124mClass Loss: \u001b[39m\u001b[38;5;132;01m{\u001b[39;00mclass_loss\u001b[38;5;241m.\u001b[39mitem()\u001b[38;5;132;01m:\u001b[39;00m\u001b[38;5;124m.4f\u001b[39m\u001b[38;5;132;01m}\u001b[39;00m\u001b[38;5;124m\"\u001b[39m)\n",
            "Cell \u001b[0;32mIn[229], line 20\u001b[0m, in \u001b[0;36mMI\u001b[0;34m(X, templates)\u001b[0m\n\u001b[1;32m     18\u001b[0m p_x_expanded \u001b[38;5;241m=\u001b[39m p_x\u001b[38;5;241m.\u001b[39munsqueeze(\u001b[38;5;241m-\u001b[39m\u001b[38;5;241m1\u001b[39m)\u001b[38;5;241m.\u001b[39munsqueeze(\u001b[38;5;241m-\u001b[39m\u001b[38;5;241m1\u001b[39m)\n\u001b[1;32m     19\u001b[0m MI \u001b[38;5;241m=\u001b[39m \u001b[38;5;241m-\u001b[39m (p_x_T) \u001b[38;5;241m*\u001b[39m torch\u001b[38;5;241m.\u001b[39mlog2((p_x_T \u001b[38;5;241m+\u001b[39m \u001b[38;5;241m1e-10\u001b[39m) ) \u001b[38;5;241m/\u001b[39m ((p_x \u001b[38;5;241m*\u001b[39m p_T) \u001b[38;5;241m+\u001b[39m \u001b[38;5;241m1e-10\u001b[39m)\n\u001b[0;32m---> 20\u001b[0m \u001b[38;5;28;01mreturn\u001b[39;00m \u001b[43mMI\u001b[49m\u001b[38;5;241;43m.\u001b[39;49m\u001b[43msum\u001b[49m\u001b[43m(\u001b[49m\u001b[43mdim\u001b[49m\u001b[38;5;241;43m=\u001b[39;49m\u001b[43m(\u001b[49m\u001b[38;5;241;43m1\u001b[39;49m\u001b[43m,\u001b[49m\u001b[43m \u001b[49m\u001b[38;5;241;43m2\u001b[39;49m\u001b[43m,\u001b[49m\u001b[43m \u001b[49m\u001b[38;5;241;43m3\u001b[39;49m\u001b[43m,\u001b[49m\u001b[43m \u001b[49m\u001b[38;5;241;43m4\u001b[39;49m\u001b[43m)\u001b[49m\u001b[43m)\u001b[49m \u001b[38;5;241m/\u001b[39m (n\u001b[38;5;241m*\u001b[39mn\u001b[38;5;241m*\u001b[39mn_templates)\n",
            "\u001b[0;31mKeyboardInterrupt\u001b[0m: "
          ]
        }
      ],
      "source": [
        "lambda_ = 0.003\n",
        "EPOCHS = 5\n",
        "\n",
        "losses = {\n",
        "    \"total_loss\": [],\n",
        "    \"class_loss\": [],\n",
        "    \"interp_loss\": []\n",
        "}\n",
        "model.train()\n",
        "for epoch in trange(EPOCHS):\n",
        "    for images, labels in tqdm(train_dataloader, desc=\"Training\", leave=False):\n",
        "        y_pred, icnn_output = model(images)\n",
        "\n",
        "        # Clasificación\n",
        "        class_loss = criterion(y_pred.squeeze(1), labels.float())\n",
        "\n",
        "        # Interpretabilidad\n",
        "        is_pos = labels.bool()\n",
        "\n",
        "        templates = model.icnn.templates.unsqueeze(0).repeat(BATCH_SIZE, 1, 1, 1)\n",
        "        interp_loss = MI(icnn_output, templates).sum() * 1e-3\n",
        "        print(f\"Mutual Information: {interp_loss.item():.4f}\")\n",
        "        print(f\"Class Loss: {class_loss.item():.4f}\")\n",
        "        total_loss = lambda_ * interp_loss + (1 - lambda_) * class_loss\n",
        "\n",
        "        optimizer.zero_grad()\n",
        "        total_loss.backward()\n",
        "        optimizer.step()\n",
        "        #print(f\"Epoch {epoch+1}/{EPOCHS}, Batch Loss: {total_loss.item():.4f}, Class Loss: {class_loss.item():.4f}, Interp Loss: {interp_loss.item():.4f}\")\n",
        "\n",
        "\n",
        "    losses[\"total_loss\"].append(total_loss.item())\n",
        "    losses[\"class_loss\"].append(class_loss.item())\n",
        "    losses[\"interp_loss\"].append(interp_loss.item())\n",
        "    print(f\"Epoch {epoch+1}/{EPOCHS}, Total Loss: {total_loss.item():.4f}, Class Loss: {class_loss.item():.4f}, Interp Loss: {interp_loss.item():.4f}\")\n",
        "\n"
      ]
    },
    {
      "cell_type": "code",
      "execution_count": null,
      "id": "8c691869",
      "metadata": {
        "id": "8c691869",
        "outputId": "3be0e092-3ae0-4ce6-9627-bc633dabe534"
      },
      "outputs": [
        {
          "data": {
            "text/plain": [
              "[-65153.81640625,\n",
              " -65153.81640625,\n",
              " -65153.81640625,\n",
              " -65153.81640625,\n",
              " -65153.81640625]"
            ]
          },
          "execution_count": 91,
          "metadata": {},
          "output_type": "execute_result"
        }
      ],
      "source": [
        "losses[\"interp_loss\"]"
      ]
    },
    {
      "cell_type": "code",
      "execution_count": null,
      "id": "aae43e18",
      "metadata": {
        "id": "aae43e18"
      },
      "outputs": [],
      "source": []
    }
  ],
  "metadata": {
    "kernelspec": {
      "display_name": "ai",
      "language": "python",
      "name": "python3"
    },
    "language_info": {
      "codemirror_mode": {
        "name": "ipython",
        "version": 3
      },
      "file_extension": ".py",
      "mimetype": "text/x-python",
      "name": "python",
      "nbconvert_exporter": "python",
      "pygments_lexer": "ipython3",
      "version": "3.11.9"
    },
    "colab": {
      "provenance": [],
      "include_colab_link": true
    }
  },
  "nbformat": 4,
  "nbformat_minor": 5
}