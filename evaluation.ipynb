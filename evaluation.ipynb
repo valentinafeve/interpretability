{
 "cells": [
  {
   "cell_type": "code",
   "execution_count": 1,
   "id": "207f6f22",
   "metadata": {},
   "outputs": [],
   "source": [
    "import torch"
   ]
  },
  {
   "cell_type": "code",
   "execution_count": 2,
   "id": "185aa9ae",
   "metadata": {},
   "outputs": [],
   "source": [
    "model_path = 'model_icnn_20251005-140059.pth' "
   ]
  },
  {
   "cell_type": "code",
   "execution_count": 3,
   "id": "b79edd80",
   "metadata": {},
   "outputs": [],
   "source": [
    "model = torch.load(model_path)"
   ]
  },
  {
   "cell_type": "code",
   "execution_count": null,
   "id": "d54725f2",
   "metadata": {},
   "outputs": [],
   "source": [
    "model"
   ]
  }
 ],
 "metadata": {
  "kernelspec": {
   "display_name": "interpretability",
   "language": "python",
   "name": "python3"
  },
  "language_info": {
   "codemirror_mode": {
    "name": "ipython",
    "version": 3
   },
   "file_extension": ".py",
   "mimetype": "text/x-python",
   "name": "python",
   "nbconvert_exporter": "python",
   "pygments_lexer": "ipython3",
   "version": "3.11.13"
  }
 },
 "nbformat": 4,
 "nbformat_minor": 5
}
